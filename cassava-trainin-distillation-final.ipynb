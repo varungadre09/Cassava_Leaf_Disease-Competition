{
 "cells": [
  {
   "cell_type": "markdown",
   "metadata": {
    "papermill": {
     "duration": 0.01209,
     "end_time": "2021-02-15T05:08:53.002291",
     "exception": false,
     "start_time": "2021-02-15T05:08:52.990201",
     "status": "completed"
    },
    "tags": []
   },
   "source": [
    "# Imports"
   ]
  },
  {
   "cell_type": "code",
   "execution_count": 1,
   "metadata": {
    "execution": {
     "iopub.execute_input": "2021-02-15T05:08:53.030639Z",
     "iopub.status.busy": "2021-02-15T05:08:53.029712Z",
     "iopub.status.idle": "2021-02-15T05:09:04.795312Z",
     "shell.execute_reply": "2021-02-15T05:09:04.794565Z"
    },
    "papermill": {
     "duration": 11.782302,
     "end_time": "2021-02-15T05:09:04.795550",
     "exception": false,
     "start_time": "2021-02-15T05:08:53.013248",
     "status": "completed"
    },
    "tags": []
   },
   "outputs": [
    {
     "name": "stdout",
     "output_type": "stream",
     "text": [
      "Collecting pretrainedmodels\r\n",
      "  Downloading pretrainedmodels-0.7.4.tar.gz (58 kB)\r\n",
      "\u001b[K     |████████████████████████████████| 58 kB 903 kB/s \r\n",
      "\u001b[?25hRequirement already satisfied: torch in /opt/conda/lib/python3.7/site-packages (from pretrainedmodels) (1.7.0)\r\n",
      "Requirement already satisfied: torchvision in /opt/conda/lib/python3.7/site-packages (from pretrainedmodels) (0.8.1)\r\n",
      "Requirement already satisfied: munch in /opt/conda/lib/python3.7/site-packages (from pretrainedmodels) (2.5.0)\r\n",
      "Requirement already satisfied: tqdm in /opt/conda/lib/python3.7/site-packages (from pretrainedmodels) (4.55.1)\r\n",
      "Requirement already satisfied: six in /opt/conda/lib/python3.7/site-packages (from munch->pretrainedmodels) (1.15.0)\r\n",
      "Requirement already satisfied: future in /opt/conda/lib/python3.7/site-packages (from torch->pretrainedmodels) (0.18.2)\r\n",
      "Requirement already satisfied: typing_extensions in /opt/conda/lib/python3.7/site-packages (from torch->pretrainedmodels) (3.7.4.3)\r\n",
      "Requirement already satisfied: dataclasses in /opt/conda/lib/python3.7/site-packages (from torch->pretrainedmodels) (0.6)\r\n",
      "Requirement already satisfied: numpy in /opt/conda/lib/python3.7/site-packages (from torch->pretrainedmodels) (1.19.5)\r\n",
      "Requirement already satisfied: pillow>=4.1.1 in /opt/conda/lib/python3.7/site-packages (from torchvision->pretrainedmodels) (7.2.0)\r\n",
      "Building wheels for collected packages: pretrainedmodels\r\n",
      "  Building wheel for pretrainedmodels (setup.py) ... \u001b[?25l-\b \b\\\b \bdone\r\n",
      "\u001b[?25h  Created wheel for pretrainedmodels: filename=pretrainedmodels-0.7.4-py3-none-any.whl size=60963 sha256=202136895a6a08e3bcec9bdc90bb316ea4487bd128484157be45de3a1e57e79a\r\n",
      "  Stored in directory: /root/.cache/pip/wheels/ed/27/e8/9543d42de2740d3544db96aefef63bda3f2c1761b3334f4873\r\n",
      "Successfully built pretrainedmodels\r\n",
      "Installing collected packages: pretrainedmodels\r\n",
      "Successfully installed pretrainedmodels-0.7.4\r\n"
     ]
    }
   ],
   "source": [
    "#!pip install efficientnet_pytorch\n",
    "!pip install pretrainedmodels"
   ]
  },
  {
   "cell_type": "code",
   "execution_count": 2,
   "metadata": {
    "execution": {
     "iopub.execute_input": "2021-02-15T05:09:04.836337Z",
     "iopub.status.busy": "2021-02-15T05:09:04.835352Z",
     "iopub.status.idle": "2021-02-15T05:09:13.098497Z",
     "shell.execute_reply": "2021-02-15T05:09:13.097878Z"
    },
    "papermill": {
     "duration": 8.286796,
     "end_time": "2021-02-15T05:09:13.098668",
     "exception": false,
     "start_time": "2021-02-15T05:09:04.811872",
     "status": "completed"
    },
    "tags": []
   },
   "outputs": [],
   "source": [
    "from fastai.vision.all import *\n",
    "from fastai.vision.core import *\n",
    "from fastai.callback.fp16 import *\n",
    "\n",
    "from fastai.callback.cutmix import *\n",
    "from torch.distributions.beta import Beta\n",
    "\n",
    "from fastai.callback.wandb import *\n",
    "import torchvision.models as models\n",
    "import pandas as pd\n",
    "import numpy as np\n",
    "import distillation\n",
    "\n",
    "#from efficientnet_pytorch import EfficientNet\n",
    "import pretrainedmodels\n",
    "import albumentations\n",
    "import wandb\n",
    "#import sys\n",
    "#sys.path.append('../input/timm2021/pytorch-image-models-master')\n",
    "#import timm"
   ]
  },
  {
   "cell_type": "markdown",
   "metadata": {
    "papermill": {
     "duration": 0.015148,
     "end_time": "2021-02-15T05:09:13.130484",
     "exception": false,
     "start_time": "2021-02-15T05:09:13.115336",
     "status": "completed"
    },
    "tags": []
   },
   "source": [
    "# Setup"
   ]
  },
  {
   "cell_type": "code",
   "execution_count": 3,
   "metadata": {
    "execution": {
     "iopub.execute_input": "2021-02-15T05:09:13.178405Z",
     "iopub.status.busy": "2021-02-15T05:09:13.176149Z",
     "iopub.status.idle": "2021-02-15T05:09:13.179285Z",
     "shell.execute_reply": "2021-02-15T05:09:13.179959Z"
    },
    "papermill": {
     "duration": 0.033712,
     "end_time": "2021-02-15T05:09:13.180171",
     "exception": false,
     "start_time": "2021-02-15T05:09:13.146459",
     "status": "completed"
    },
    "tags": []
   },
   "outputs": [],
   "source": [
    "class Config:\n",
    "    testing     = False # must be same as create-folds.ipynb\n",
    "    image_size  = 512\n",
    "    batch_size  = 16\n",
    "    epochs      = 10\n",
    "    f_epochs    = 1\n",
    "    train_folds = ['f1']\n",
    "    arch        = 'efficientnet-b4'\n",
    "    \n",
    "cfg = Config()"
   ]
  },
  {
   "cell_type": "code",
   "execution_count": 4,
   "metadata": {
    "execution": {
     "iopub.execute_input": "2021-02-15T05:09:13.219966Z",
     "iopub.status.busy": "2021-02-15T05:09:13.219086Z",
     "iopub.status.idle": "2021-02-15T05:09:13.223275Z",
     "shell.execute_reply": "2021-02-15T05:09:13.223809Z"
    },
    "papermill": {
     "duration": 0.027114,
     "end_time": "2021-02-15T05:09:13.223989",
     "exception": false,
     "start_time": "2021-02-15T05:09:13.196875",
     "status": "completed"
    },
    "tags": []
   },
   "outputs": [],
   "source": [
    "def set_seeds():\n",
    "    random.seed(42)\n",
    "    np.random.seed(42)\n",
    "    torch.manual_seed(42)\n",
    "    torch.backends.cudnn.deterministic = True\n",
    "    torch.backends.cudnn.benchmark = False\n",
    "    \n",
    "set_seeds()"
   ]
  },
  {
   "cell_type": "code",
   "execution_count": 5,
   "metadata": {
    "execution": {
     "iopub.execute_input": "2021-02-15T05:09:13.268625Z",
     "iopub.status.busy": "2021-02-15T05:09:13.267921Z",
     "iopub.status.idle": "2021-02-15T05:09:13.342098Z",
     "shell.execute_reply": "2021-02-15T05:09:13.341326Z"
    },
    "papermill": {
     "duration": 0.10195,
     "end_time": "2021-02-15T05:09:13.342260",
     "exception": false,
     "start_time": "2021-02-15T05:09:13.240310",
     "status": "completed"
    },
    "tags": []
   },
   "outputs": [],
   "source": [
    "path_str = '../input/cassava-leaf-disease-merged'\n",
    "\n",
    "images_path = Path(path_str + '/train')\n",
    "csv_path = Path(path_str + '/merged.csv')\n",
    "folds_path = Path('../input/fold-indexes/folds-merged.csv')\n",
    "\n",
    "full_df = pd.read_csv(csv_path)\n",
    "folds_df = pd.read_csv(folds_path)\n",
    "\n",
    "# drop rows so we get an even number for our folds and remove duplicates\n",
    "full_df = full_df[~full_df['image_id'].isin(['1562043567.jpg', '3551135685.jpg', '2252529694.jpg', '1000015157.jpg', '1000201771.jpg', '100042118.jpg', '1001723730.jpg'])]"
   ]
  },
  {
   "cell_type": "markdown",
   "metadata": {
    "papermill": {
     "duration": 0.015586,
     "end_time": "2021-02-15T05:09:13.374150",
     "exception": false,
     "start_time": "2021-02-15T05:09:13.358564",
     "status": "completed"
    },
    "tags": []
   },
   "source": [
    "# Create a test dataset"
   ]
  },
  {
   "cell_type": "code",
   "execution_count": 6,
   "metadata": {
    "execution": {
     "iopub.execute_input": "2021-02-15T05:09:13.414962Z",
     "iopub.status.busy": "2021-02-15T05:09:13.413944Z",
     "iopub.status.idle": "2021-02-15T05:09:20.804092Z",
     "shell.execute_reply": "2021-02-15T05:09:20.803440Z"
    },
    "papermill": {
     "duration": 7.413814,
     "end_time": "2021-02-15T05:09:20.804245",
     "exception": false,
     "start_time": "2021-02-15T05:09:13.390431",
     "status": "completed"
    },
    "tags": []
   },
   "outputs": [
    {
     "name": "stderr",
     "output_type": "stream",
     "text": [
      "\u001b[34m\u001b[1mwandb\u001b[0m: W&B API key is configured (use `wandb login --relogin` to force relogin)\n",
      "\u001b[34m\u001b[1mwandb\u001b[0m: \u001b[33mWARNING\u001b[0m If you're specifying your api key in code, ensure this code is not shared publically.\n",
      "\u001b[34m\u001b[1mwandb\u001b[0m: \u001b[33mWARNING\u001b[0m Consider setting the WANDB_API_KEY environment variable, or running `wandb login` from the command line.\n",
      "\u001b[34m\u001b[1mwandb\u001b[0m: Appending key for api.wandb.ai to your netrc file: /root/.netrc\n",
      "\u001b[34m\u001b[1mwandb\u001b[0m: Currently logged in as: \u001b[33mteo03\u001b[0m (use `wandb login --relogin` to force relogin)\n",
      "\u001b[34m\u001b[1mwandb\u001b[0m: wandb version 0.10.19 is available!  To upgrade, please run:\n",
      "\u001b[34m\u001b[1mwandb\u001b[0m:  $ pip install wandb --upgrade\n"
     ]
    },
    {
     "data": {
      "text/html": [
       "\n",
       "                Tracking run with wandb version 0.10.18<br/>\n",
       "                Syncing run <strong style=\"color:#cdcd00\">engaging-caress-165</strong> to <a href=\"https://wandb.ai\" target=\"_blank\">Weights & Biases</a> <a href=\"https://docs.wandb.com/integrations/jupyter.html\" target=\"_blank\">(Documentation)</a>.<br/>\n",
       "                Project page: <a href=\"https://wandb.ai/teo03/cassava\" target=\"_blank\">https://wandb.ai/teo03/cassava</a><br/>\n",
       "                Run page: <a href=\"https://wandb.ai/teo03/cassava/runs/1mevs6ws\" target=\"_blank\">https://wandb.ai/teo03/cassava/runs/1mevs6ws</a><br/>\n",
       "                Run data is saved locally in <code>/kaggle/working/wandb/run-20210215_050913-1mevs6ws</code><br/><br/>\n",
       "            "
      ],
      "text/plain": [
       "<IPython.core.display.HTML object>"
      ]
     },
     "metadata": {},
     "output_type": "display_data"
    },
    {
     "data": {
      "text/plain": [
       "26330"
      ]
     },
     "execution_count": 6,
     "metadata": {},
     "output_type": "execute_result"
    }
   ],
   "source": [
    "if cfg.testing:\n",
    "    full_df = full_df.tail(120)#.head(120)\n",
    "else:\n",
    "    wandb.login(key=\"11b470b697ff94b3896d2243b147d42177a5cb7a\")\n",
    "    wandb.init(project=\"cassava\", entity=\"teo03\")\n",
    "\n",
    "len(full_df)"
   ]
  },
  {
   "cell_type": "markdown",
   "metadata": {
    "papermill": {
     "duration": 0.025235,
     "end_time": "2021-02-15T05:09:20.854547",
     "exception": false,
     "start_time": "2021-02-15T05:09:20.829312",
     "status": "completed"
    },
    "tags": []
   },
   "source": [
    "# Augmentation and train functions"
   ]
  },
  {
   "cell_type": "code",
   "execution_count": 7,
   "metadata": {
    "execution": {
     "iopub.execute_input": "2021-02-15T05:09:20.912526Z",
     "iopub.status.busy": "2021-02-15T05:09:20.911395Z",
     "iopub.status.idle": "2021-02-15T05:09:20.926327Z",
     "shell.execute_reply": "2021-02-15T05:09:20.925541Z"
    },
    "papermill": {
     "duration": 0.048794,
     "end_time": "2021-02-15T05:09:20.926587",
     "exception": false,
     "start_time": "2021-02-15T05:09:20.877793",
     "status": "completed"
    },
    "tags": []
   },
   "outputs": [],
   "source": [
    "class AlbumentationsTransform(RandTransform):\n",
    "    split_idx,order = None, 2\n",
    "    \n",
    "    def __init__(self, train_aug, valid_aug): \n",
    "        store_attr()\n",
    "    \n",
    "    def before_call(self, b, split_idx):\n",
    "        self.idx = split_idx\n",
    "    \n",
    "    def encodes(self, img: PILImage):\n",
    "        if self.idx == 0:\n",
    "            aug_img = self.train_aug(image=np.array(img))['image']\n",
    "        else:\n",
    "            aug_img = self.valid_aug(image=np.array(img))['image']\n",
    "        return PILImage.create(aug_img)\n",
    "\n",
    "\n",
    "def get_train_aug(size): \n",
    "    return albumentations.Compose([\n",
    "            albumentations.RandomResizedCrop(size,size),\n",
    "            albumentations.Transpose(p=0.5),\n",
    "            albumentations.HorizontalFlip(p=0.5),\n",
    "            albumentations.VerticalFlip(p=0.5),\n",
    "            albumentations.ShiftScaleRotate(p=0.5),\n",
    "            albumentations.HueSaturationValue(\n",
    "                hue_shift_limit=0.2, \n",
    "                sat_shift_limit=0.2, \n",
    "                val_shift_limit=0.2, \n",
    "                p=0.5\n",
    "            ),\n",
    "            albumentations.RandomBrightnessContrast(\n",
    "                brightness_limit=(-0.1,0.1), \n",
    "                contrast_limit=(-0.1, 0.1), \n",
    "                p=0.5\n",
    "            ),\n",
    "            albumentations.CoarseDropout(p=0.5),\n",
    "            albumentations.Cutout(p=0.5)\n",
    "])\n",
    "\n",
    "def get_valid_aug(size): \n",
    "    return albumentations.Compose([\n",
    "        albumentations.Resize(size, size),\n",
    "        albumentations.CenterCrop(size, size, p=1.),\n",
    "], p=1.)\n",
    "\n",
    "def get_x(row): return images_path/row['image_id']\n",
    "def get_y(row): return row['label']"
   ]
  },
  {
   "cell_type": "code",
   "execution_count": 8,
   "metadata": {
    "execution": {
     "iopub.execute_input": "2021-02-15T05:09:20.991137Z",
     "iopub.status.busy": "2021-02-15T05:09:20.988317Z",
     "iopub.status.idle": "2021-02-15T05:09:20.994984Z",
     "shell.execute_reply": "2021-02-15T05:09:20.995680Z"
    },
    "papermill": {
     "duration": 0.045377,
     "end_time": "2021-02-15T05:09:20.995920",
     "exception": false,
     "start_time": "2021-02-15T05:09:20.950543",
     "status": "completed"
    },
    "tags": []
   },
   "outputs": [],
   "source": [
    "def train(dls, fold):\n",
    "    \n",
    "    #model = EfficientNet.from_pretrained(cfg.arch, num_classes=5)\n",
    "    \"\"\"\n",
    "    model = models.resnext50_32x4d(pretrained=True)\n",
    "    n_features = model.fc.in_features\n",
    "    model.fc = nn.Linear(n_features, 5)\n",
    "    \"\"\"\n",
    "    model = pretrainedmodels.__dict__['se_resnext50_32x4d'](pretrained='imagenet')\n",
    "    model.avg_pool = nn.AdaptiveAvgPool2d((1,1))\n",
    "    model.last_linear = nn.Linear(2048,5,bias=True)\n",
    "    \n",
    "    \n",
    "    fold_name = f'model-{fold}'\n",
    "\n",
    "    # define learners\n",
    "    t_learn = Learner(\n",
    "        dls=dls,\n",
    "        model=model,\n",
    "        opt_func=ranger,\n",
    "        metrics=accuracy,\n",
    "        loss_func=LabelSmoothingCrossEntropy(),\n",
    "        cbs=[CutMix()]\n",
    "    ).to_fp16()\n",
    "    \n",
    "    s_learn = Learner(\n",
    "        dls=dls,\n",
    "        model = model,\n",
    "        opt_func=ranger,\n",
    "        metrics=accuracy,\n",
    "        loss_func=LabelSmoothingCrossEntropy(),\n",
    "        cbs=[\n",
    "            WandbCallback(log_preds=False, log_model=True, n_preds=2),\n",
    "            SaveModelCallback(\n",
    "                monitor='accuracy',\n",
    "                fname=fold_name,\n",
    "                with_opt=True,\n",
    "                every_epoch=False\n",
    "            ),\n",
    "            CutMix(),\n",
    "        ]\n",
    "    ).to_fp16()\n",
    "    \n",
    "    lr = 0.001\n",
    "    \n",
    "    # teacher model training\n",
    "    if not cfg.testing:\n",
    "        lr_min, lr_steep = t_learn.lr_find(show_plot=False)\n",
    "        lr = round(lr_min, 5)\n",
    "        print(f'found lr of({lr_min}): {round(lr_min, 5)}')\n",
    "    \n",
    "\n",
    "    t_learn.fine_tune(\n",
    "        cfg.epochs,\n",
    "        base_lr=lr,\n",
    "        freeze_epochs=cfg.f_epochs,\n",
    "    )\n",
    "    \n",
    "    \n",
    "    # student model training\n",
    "    if not cfg.testing:\n",
    "        lr_min, lr_steep = s_learn.lr_find(show_plot=False)\n",
    "        lr = round(lr_min, 5)\n",
    "        print(f'found lr of({lr_min}): {round(lr_min,5)}')\n",
    "        \n",
    "    s_learn.fine_tune(\n",
    "        cfg.epochs,\n",
    "        base_lr=lr,\n",
    "        freeze_epochs=cfg.f_epochs,\n",
    "        cbs = [distillation.KnowledgeDistillation(s_learn,t_learn)]\n",
    "    )\n",
    "    \n",
    "    s_learn.load(fold_name) # load the best .pth\n",
    "    s_learn.export(fold_name + '.pkl') # export as .pkl\n",
    "    \n",
    "    return s_learn"
   ]
  },
  {
   "cell_type": "markdown",
   "metadata": {
    "papermill": {
     "duration": 0.02281,
     "end_time": "2021-02-15T05:09:21.042011",
     "exception": false,
     "start_time": "2021-02-15T05:09:21.019201",
     "status": "completed"
    },
    "tags": []
   },
   "source": [
    "# Training\n",
    "train models on different folds of our data"
   ]
  },
  {
   "cell_type": "code",
   "execution_count": 9,
   "metadata": {
    "execution": {
     "iopub.execute_input": "2021-02-15T05:09:21.100334Z",
     "iopub.status.busy": "2021-02-15T05:09:21.099430Z",
     "iopub.status.idle": "2021-02-15T11:47:43.899298Z",
     "shell.execute_reply": "2021-02-15T11:47:43.898664Z"
    },
    "papermill": {
     "duration": 23902.834525,
     "end_time": "2021-02-15T11:47:43.899484",
     "exception": false,
     "start_time": "2021-02-15T05:09:21.064959",
     "status": "completed"
    },
    "tags": []
   },
   "outputs": [
    {
     "name": "stdout",
     "output_type": "stream",
     "text": [
      "started training on f1\n"
     ]
    },
    {
     "name": "stderr",
     "output_type": "stream",
     "text": [
      "Downloading: \"http://data.lip6.fr/cadene/pretrainedmodels/se_resnext50_32x4d-a260b3a4.pth\" to /root/.cache/torch/hub/checkpoints/se_resnext50_32x4d-a260b3a4.pth\n"
     ]
    },
    {
     "data": {
      "application/vnd.jupyter.widget-view+json": {
       "model_id": "25459cdf73c344f6a38ef52f87296987",
       "version_major": 2,
       "version_minor": 0
      },
      "text/plain": [
       "  0%|          | 0.00/105M [00:00<?, ?B/s]"
      ]
     },
     "metadata": {},
     "output_type": "display_data"
    },
    {
     "data": {
      "text/html": [],
      "text/plain": [
       "<IPython.core.display.HTML object>"
      ]
     },
     "metadata": {},
     "output_type": "display_data"
    },
    {
     "name": "stdout",
     "output_type": "stream",
     "text": [
      "found lr of(0.006918309628963471): 0.00692\n"
     ]
    },
    {
     "data": {
      "text/html": [
       "<table border=\"1\" class=\"dataframe\">\n",
       "  <thead>\n",
       "    <tr style=\"text-align: left;\">\n",
       "      <th>epoch</th>\n",
       "      <th>train_loss</th>\n",
       "      <th>valid_loss</th>\n",
       "      <th>accuracy</th>\n",
       "      <th>time</th>\n",
       "    </tr>\n",
       "  </thead>\n",
       "  <tbody>\n",
       "    <tr>\n",
       "      <td>0</td>\n",
       "      <td>1.124846</td>\n",
       "      <td>0.967033</td>\n",
       "      <td>0.695404</td>\n",
       "      <td>17:48</td>\n",
       "    </tr>\n",
       "  </tbody>\n",
       "</table>"
      ],
      "text/plain": [
       "<IPython.core.display.HTML object>"
      ]
     },
     "metadata": {},
     "output_type": "display_data"
    },
    {
     "data": {
      "text/html": [
       "<table border=\"1\" class=\"dataframe\">\n",
       "  <thead>\n",
       "    <tr style=\"text-align: left;\">\n",
       "      <th>epoch</th>\n",
       "      <th>train_loss</th>\n",
       "      <th>valid_loss</th>\n",
       "      <th>accuracy</th>\n",
       "      <th>time</th>\n",
       "    </tr>\n",
       "  </thead>\n",
       "  <tbody>\n",
       "    <tr>\n",
       "      <td>0</td>\n",
       "      <td>0.973556</td>\n",
       "      <td>0.770986</td>\n",
       "      <td>0.814660</td>\n",
       "      <td>17:38</td>\n",
       "    </tr>\n",
       "    <tr>\n",
       "      <td>1</td>\n",
       "      <td>0.989176</td>\n",
       "      <td>0.817755</td>\n",
       "      <td>0.797759</td>\n",
       "      <td>17:39</td>\n",
       "    </tr>\n",
       "    <tr>\n",
       "      <td>2</td>\n",
       "      <td>0.983044</td>\n",
       "      <td>0.883633</td>\n",
       "      <td>0.770604</td>\n",
       "      <td>17:38</td>\n",
       "    </tr>\n",
       "    <tr>\n",
       "      <td>3</td>\n",
       "      <td>0.950084</td>\n",
       "      <td>0.793471</td>\n",
       "      <td>0.816369</td>\n",
       "      <td>17:38</td>\n",
       "    </tr>\n",
       "    <tr>\n",
       "      <td>4</td>\n",
       "      <td>0.940832</td>\n",
       "      <td>0.730088</td>\n",
       "      <td>0.842005</td>\n",
       "      <td>17:38</td>\n",
       "    </tr>\n",
       "    <tr>\n",
       "      <td>5</td>\n",
       "      <td>0.948805</td>\n",
       "      <td>0.749614</td>\n",
       "      <td>0.835739</td>\n",
       "      <td>17:40</td>\n",
       "    </tr>\n",
       "    <tr>\n",
       "      <td>6</td>\n",
       "      <td>0.917560</td>\n",
       "      <td>0.723315</td>\n",
       "      <td>0.845044</td>\n",
       "      <td>17:39</td>\n",
       "    </tr>\n",
       "    <tr>\n",
       "      <td>7</td>\n",
       "      <td>0.849829</td>\n",
       "      <td>0.679937</td>\n",
       "      <td>0.863654</td>\n",
       "      <td>17:35</td>\n",
       "    </tr>\n",
       "    <tr>\n",
       "      <td>8</td>\n",
       "      <td>0.873836</td>\n",
       "      <td>0.676797</td>\n",
       "      <td>0.864793</td>\n",
       "      <td>17:32</td>\n",
       "    </tr>\n",
       "    <tr>\n",
       "      <td>9</td>\n",
       "      <td>0.857662</td>\n",
       "      <td>0.672103</td>\n",
       "      <td>0.865363</td>\n",
       "      <td>17:39</td>\n",
       "    </tr>\n",
       "  </tbody>\n",
       "</table>"
      ],
      "text/plain": [
       "<IPython.core.display.HTML object>"
      ]
     },
     "metadata": {},
     "output_type": "display_data"
    },
    {
     "data": {
      "text/html": [],
      "text/plain": [
       "<IPython.core.display.HTML object>"
      ]
     },
     "metadata": {},
     "output_type": "display_data"
    },
    {
     "name": "stdout",
     "output_type": "stream",
     "text": [
      "found lr of(0.0013182567432522773): 0.00132\n"
     ]
    },
    {
     "data": {
      "text/html": [
       "<table border=\"1\" class=\"dataframe\">\n",
       "  <thead>\n",
       "    <tr style=\"text-align: left;\">\n",
       "      <th>epoch</th>\n",
       "      <th>train_loss</th>\n",
       "      <th>valid_loss</th>\n",
       "      <th>accuracy</th>\n",
       "      <th>time</th>\n",
       "    </tr>\n",
       "  </thead>\n",
       "  <tbody>\n",
       "    <tr>\n",
       "      <td>0</td>\n",
       "      <td>0.905787</td>\n",
       "      <td>0.684806</td>\n",
       "      <td>0.864983</td>\n",
       "      <td>17:50</td>\n",
       "    </tr>\n",
       "  </tbody>\n",
       "</table>"
      ],
      "text/plain": [
       "<IPython.core.display.HTML object>"
      ]
     },
     "metadata": {},
     "output_type": "display_data"
    },
    {
     "name": "stdout",
     "output_type": "stream",
     "text": [
      "Better model found at epoch 0 with accuracy value: 0.8649829030036926.\n"
     ]
    },
    {
     "data": {
      "text/html": [
       "<table border=\"1\" class=\"dataframe\">\n",
       "  <thead>\n",
       "    <tr style=\"text-align: left;\">\n",
       "      <th>epoch</th>\n",
       "      <th>train_loss</th>\n",
       "      <th>valid_loss</th>\n",
       "      <th>accuracy</th>\n",
       "      <th>time</th>\n",
       "    </tr>\n",
       "  </thead>\n",
       "  <tbody>\n",
       "    <tr>\n",
       "      <td>0</td>\n",
       "      <td>0.886881</td>\n",
       "      <td>0.668933</td>\n",
       "      <td>0.869540</td>\n",
       "      <td>17:59</td>\n",
       "    </tr>\n",
       "    <tr>\n",
       "      <td>1</td>\n",
       "      <td>0.861713</td>\n",
       "      <td>0.668376</td>\n",
       "      <td>0.867641</td>\n",
       "      <td>17:53</td>\n",
       "    </tr>\n",
       "    <tr>\n",
       "      <td>2</td>\n",
       "      <td>0.903085</td>\n",
       "      <td>0.672741</td>\n",
       "      <td>0.867452</td>\n",
       "      <td>17:50</td>\n",
       "    </tr>\n",
       "    <tr>\n",
       "      <td>3</td>\n",
       "      <td>0.856807</td>\n",
       "      <td>0.674365</td>\n",
       "      <td>0.867072</td>\n",
       "      <td>17:46</td>\n",
       "    </tr>\n",
       "    <tr>\n",
       "      <td>4</td>\n",
       "      <td>0.869804</td>\n",
       "      <td>0.668160</td>\n",
       "      <td>0.869920</td>\n",
       "      <td>17:45</td>\n",
       "    </tr>\n",
       "    <tr>\n",
       "      <td>5</td>\n",
       "      <td>0.856750</td>\n",
       "      <td>0.660123</td>\n",
       "      <td>0.876377</td>\n",
       "      <td>17:46</td>\n",
       "    </tr>\n",
       "    <tr>\n",
       "      <td>6</td>\n",
       "      <td>0.850379</td>\n",
       "      <td>0.660809</td>\n",
       "      <td>0.874478</td>\n",
       "      <td>17:44</td>\n",
       "    </tr>\n",
       "    <tr>\n",
       "      <td>7</td>\n",
       "      <td>0.843186</td>\n",
       "      <td>0.654987</td>\n",
       "      <td>0.878656</td>\n",
       "      <td>17:48</td>\n",
       "    </tr>\n",
       "    <tr>\n",
       "      <td>8</td>\n",
       "      <td>0.830613</td>\n",
       "      <td>0.654864</td>\n",
       "      <td>0.876187</td>\n",
       "      <td>17:50</td>\n",
       "    </tr>\n",
       "    <tr>\n",
       "      <td>9</td>\n",
       "      <td>0.831447</td>\n",
       "      <td>0.653774</td>\n",
       "      <td>0.877896</td>\n",
       "      <td>17:46</td>\n",
       "    </tr>\n",
       "  </tbody>\n",
       "</table>"
      ],
      "text/plain": [
       "<IPython.core.display.HTML object>"
      ]
     },
     "metadata": {},
     "output_type": "display_data"
    },
    {
     "name": "stdout",
     "output_type": "stream",
     "text": [
      "Better model found at epoch 0 with accuracy value: 0.8695404529571533.\n",
      "Better model found at epoch 4 with accuracy value: 0.8699202537536621.\n",
      "Better model found at epoch 5 with accuracy value: 0.876376748085022.\n",
      "Better model found at epoch 7 with accuracy value: 0.8786555528640747.\n",
      "training on ['f1'] done\n"
     ]
    }
   ],
   "source": [
    "for fold in cfg.train_folds:\n",
    "    val_index = folds_df[fold].to_numpy()\n",
    "    \n",
    "    print(f'started training on {fold}')\n",
    "    \n",
    "    train_block = DataBlock(\n",
    "        blocks=(ImageBlock, CategoryBlock),\n",
    "        get_x=get_x,\n",
    "        get_y=get_y,\n",
    "        splitter=IndexSplitter(val_index),\n",
    "        item_tfms= [\n",
    "            AlbumentationsTransform(\n",
    "                get_train_aug(size=cfg.image_size),\n",
    "                get_valid_aug(size=cfg.image_size)\n",
    "            )\n",
    "        ],\n",
    "        batch_tfms=[Normalize.from_stats(*imagenet_stats)]\n",
    "    )\n",
    "\n",
    "    dls = train_block.dataloaders(full_df, bs=cfg.batch_size)\n",
    "    learn = train(dls, fold)\n",
    "\n",
    "print(f'training on {cfg.train_folds} done')"
   ]
  },
  {
   "cell_type": "code",
   "execution_count": null,
   "metadata": {
    "papermill": {
     "duration": 0.031654,
     "end_time": "2021-02-15T11:47:43.961332",
     "exception": false,
     "start_time": "2021-02-15T11:47:43.929678",
     "status": "completed"
    },
    "tags": []
   },
   "outputs": [],
   "source": []
  }
 ],
 "metadata": {
  "kernelspec": {
   "display_name": "Python 3",
   "language": "python",
   "name": "python3"
  },
  "language_info": {
   "codemirror_mode": {
    "name": "ipython",
    "version": 3
   },
   "file_extension": ".py",
   "mimetype": "text/x-python",
   "name": "python",
   "nbconvert_exporter": "python",
   "pygments_lexer": "ipython3",
   "version": "3.7.9"
  },
  "papermill": {
   "default_parameters": {},
   "duration": 23942.935703,
   "end_time": "2021-02-15T11:47:50.087374",
   "environment_variables": {},
   "exception": null,
   "input_path": "__notebook__.ipynb",
   "output_path": "__notebook__.ipynb",
   "parameters": {},
   "start_time": "2021-02-15T05:08:47.151671",
   "version": "2.2.2"
  },
  "widgets": {
   "application/vnd.jupyter.widget-state+json": {
    "state": {
     "1040d995fede420e9cae610931a6e837": {
      "model_module": "@jupyter-widgets/controls",
      "model_module_version": "1.5.0",
      "model_name": "FloatProgressModel",
      "state": {
       "_dom_classes": [],
       "_model_module": "@jupyter-widgets/controls",
       "_model_module_version": "1.5.0",
       "_model_name": "FloatProgressModel",
       "_view_count": null,
       "_view_module": "@jupyter-widgets/controls",
       "_view_module_version": "1.5.0",
       "_view_name": "ProgressView",
       "bar_style": "success",
       "description": "",
       "description_tooltip": null,
       "layout": "IPY_MODEL_818fcfbcdb0f4ea8a76a55a68071a9e2",
       "max": 110559176.0,
       "min": 0.0,
       "orientation": "horizontal",
       "style": "IPY_MODEL_d81944e243af40a5bad29b27ed128b38",
       "value": 110559176.0
      }
     },
     "158843381cab43e089c5be7f1e43268d": {
      "model_module": "@jupyter-widgets/controls",
      "model_module_version": "1.5.0",
      "model_name": "HTMLModel",
      "state": {
       "_dom_classes": [],
       "_model_module": "@jupyter-widgets/controls",
       "_model_module_version": "1.5.0",
       "_model_name": "HTMLModel",
       "_view_count": null,
       "_view_module": "@jupyter-widgets/controls",
       "_view_module_version": "1.5.0",
       "_view_name": "HTMLView",
       "description": "",
       "description_tooltip": null,
       "layout": "IPY_MODEL_c34e52b5bff443a5b6c997503296ca2f",
       "placeholder": "​",
       "style": "IPY_MODEL_29d192c8ccd14f51ab5718b2eb41d90f",
       "value": " 105M/105M [05:10&lt;00:00, 358kB/s]"
      }
     },
     "1fe0b03feb79472ca81a1f0a0e45bc49": {
      "model_module": "@jupyter-widgets/controls",
      "model_module_version": "1.5.0",
      "model_name": "HTMLModel",
      "state": {
       "_dom_classes": [],
       "_model_module": "@jupyter-widgets/controls",
       "_model_module_version": "1.5.0",
       "_model_name": "HTMLModel",
       "_view_count": null,
       "_view_module": "@jupyter-widgets/controls",
       "_view_module_version": "1.5.0",
       "_view_name": "HTMLView",
       "description": "",
       "description_tooltip": null,
       "layout": "IPY_MODEL_f03e61924eca46c9bcb9e160480e2f02",
       "placeholder": "​",
       "style": "IPY_MODEL_43f4ca346cf041c191bf0be6da845d12",
       "value": "100%"
      }
     },
     "22fe92eb294546e3832243b51b7607d0": {
      "model_module": "@jupyter-widgets/controls",
      "model_module_version": "1.5.0",
      "model_name": "DescriptionStyleModel",
      "state": {
       "_model_module": "@jupyter-widgets/controls",
       "_model_module_version": "1.5.0",
       "_model_name": "DescriptionStyleModel",
       "_view_count": null,
       "_view_module": "@jupyter-widgets/base",
       "_view_module_version": "1.2.0",
       "_view_name": "StyleView",
       "description_width": ""
      }
     },
     "25459cdf73c344f6a38ef52f87296987": {
      "model_module": "@jupyter-widgets/controls",
      "model_module_version": "1.5.0",
      "model_name": "HBoxModel",
      "state": {
       "_dom_classes": [],
       "_model_module": "@jupyter-widgets/controls",
       "_model_module_version": "1.5.0",
       "_model_name": "HBoxModel",
       "_view_count": null,
       "_view_module": "@jupyter-widgets/controls",
       "_view_module_version": "1.5.0",
       "_view_name": "HBoxView",
       "box_style": "",
       "children": [
        "IPY_MODEL_1fe0b03feb79472ca81a1f0a0e45bc49",
        "IPY_MODEL_1040d995fede420e9cae610931a6e837",
        "IPY_MODEL_158843381cab43e089c5be7f1e43268d"
       ],
       "layout": "IPY_MODEL_8fcc92fb00f04110bd52ad4cb4044ecb"
      }
     },
     "29d192c8ccd14f51ab5718b2eb41d90f": {
      "model_module": "@jupyter-widgets/controls",
      "model_module_version": "1.5.0",
      "model_name": "DescriptionStyleModel",
      "state": {
       "_model_module": "@jupyter-widgets/controls",
       "_model_module_version": "1.5.0",
       "_model_name": "DescriptionStyleModel",
       "_view_count": null,
       "_view_module": "@jupyter-widgets/base",
       "_view_module_version": "1.2.0",
       "_view_name": "StyleView",
       "description_width": ""
      }
     },
     "43f4ca346cf041c191bf0be6da845d12": {
      "model_module": "@jupyter-widgets/controls",
      "model_module_version": "1.5.0",
      "model_name": "DescriptionStyleModel",
      "state": {
       "_model_module": "@jupyter-widgets/controls",
       "_model_module_version": "1.5.0",
       "_model_name": "DescriptionStyleModel",
       "_view_count": null,
       "_view_module": "@jupyter-widgets/base",
       "_view_module_version": "1.2.0",
       "_view_name": "StyleView",
       "description_width": ""
      }
     },
     "57b9fa3c705043c4bbb047ca4732f8ce": {
      "model_module": "@jupyter-widgets/base",
      "model_module_version": "1.2.0",
      "model_name": "LayoutModel",
      "state": {
       "_model_module": "@jupyter-widgets/base",
       "_model_module_version": "1.2.0",
       "_model_name": "LayoutModel",
       "_view_count": null,
       "_view_module": "@jupyter-widgets/base",
       "_view_module_version": "1.2.0",
       "_view_name": "LayoutView",
       "align_content": null,
       "align_items": null,
       "align_self": null,
       "border": null,
       "bottom": null,
       "display": null,
       "flex": null,
       "flex_flow": null,
       "grid_area": null,
       "grid_auto_columns": null,
       "grid_auto_flow": null,
       "grid_auto_rows": null,
       "grid_column": null,
       "grid_gap": null,
       "grid_row": null,
       "grid_template_areas": null,
       "grid_template_columns": null,
       "grid_template_rows": null,
       "height": null,
       "justify_content": null,
       "justify_items": null,
       "left": null,
       "margin": null,
       "max_height": null,
       "max_width": null,
       "min_height": null,
       "min_width": null,
       "object_fit": null,
       "object_position": null,
       "order": null,
       "overflow": null,
       "overflow_x": null,
       "overflow_y": null,
       "padding": null,
       "right": null,
       "top": null,
       "visibility": null,
       "width": null
      }
     },
     "818fcfbcdb0f4ea8a76a55a68071a9e2": {
      "model_module": "@jupyter-widgets/base",
      "model_module_version": "1.2.0",
      "model_name": "LayoutModel",
      "state": {
       "_model_module": "@jupyter-widgets/base",
       "_model_module_version": "1.2.0",
       "_model_name": "LayoutModel",
       "_view_count": null,
       "_view_module": "@jupyter-widgets/base",
       "_view_module_version": "1.2.0",
       "_view_name": "LayoutView",
       "align_content": null,
       "align_items": null,
       "align_self": null,
       "border": null,
       "bottom": null,
       "display": null,
       "flex": null,
       "flex_flow": null,
       "grid_area": null,
       "grid_auto_columns": null,
       "grid_auto_flow": null,
       "grid_auto_rows": null,
       "grid_column": null,
       "grid_gap": null,
       "grid_row": null,
       "grid_template_areas": null,
       "grid_template_columns": null,
       "grid_template_rows": null,
       "height": null,
       "justify_content": null,
       "justify_items": null,
       "left": null,
       "margin": null,
       "max_height": null,
       "max_width": null,
       "min_height": null,
       "min_width": null,
       "object_fit": null,
       "object_position": null,
       "order": null,
       "overflow": null,
       "overflow_x": null,
       "overflow_y": null,
       "padding": null,
       "right": null,
       "top": null,
       "visibility": null,
       "width": null
      }
     },
     "8fcc92fb00f04110bd52ad4cb4044ecb": {
      "model_module": "@jupyter-widgets/base",
      "model_module_version": "1.2.0",
      "model_name": "LayoutModel",
      "state": {
       "_model_module": "@jupyter-widgets/base",
       "_model_module_version": "1.2.0",
       "_model_name": "LayoutModel",
       "_view_count": null,
       "_view_module": "@jupyter-widgets/base",
       "_view_module_version": "1.2.0",
       "_view_name": "LayoutView",
       "align_content": null,
       "align_items": null,
       "align_self": null,
       "border": null,
       "bottom": null,
       "display": null,
       "flex": null,
       "flex_flow": null,
       "grid_area": null,
       "grid_auto_columns": null,
       "grid_auto_flow": null,
       "grid_auto_rows": null,
       "grid_column": null,
       "grid_gap": null,
       "grid_row": null,
       "grid_template_areas": null,
       "grid_template_columns": null,
       "grid_template_rows": null,
       "height": null,
       "justify_content": null,
       "justify_items": null,
       "left": null,
       "margin": null,
       "max_height": null,
       "max_width": null,
       "min_height": null,
       "min_width": null,
       "object_fit": null,
       "object_position": null,
       "order": null,
       "overflow": null,
       "overflow_x": null,
       "overflow_y": null,
       "padding": null,
       "right": null,
       "top": null,
       "visibility": null,
       "width": null
      }
     },
     "9264b17c9ab14faba6f2840f9dd79ebf": {
      "model_module": "@jupyter-widgets/controls",
      "model_module_version": "1.5.0",
      "model_name": "ProgressStyleModel",
      "state": {
       "_model_module": "@jupyter-widgets/controls",
       "_model_module_version": "1.5.0",
       "_model_name": "ProgressStyleModel",
       "_view_count": null,
       "_view_module": "@jupyter-widgets/base",
       "_view_module_version": "1.2.0",
       "_view_name": "StyleView",
       "bar_color": null,
       "description_width": ""
      }
     },
     "964abaaf56974d48b4d4e4db1e754fd6": {
      "model_module": "@jupyter-widgets/controls",
      "model_module_version": "1.5.0",
      "model_name": "VBoxModel",
      "state": {
       "_dom_classes": [],
       "_model_module": "@jupyter-widgets/controls",
       "_model_module_version": "1.5.0",
       "_model_name": "VBoxModel",
       "_view_count": null,
       "_view_module": "@jupyter-widgets/controls",
       "_view_module_version": "1.5.0",
       "_view_name": "VBoxView",
       "box_style": "",
       "children": [
        "IPY_MODEL_a6832a3c77824ea0b178eed1e83fd6d4",
        "IPY_MODEL_dd814bbe12b947cb83b7aecb984179d1"
       ],
       "layout": "IPY_MODEL_57b9fa3c705043c4bbb047ca4732f8ce"
      }
     },
     "a6832a3c77824ea0b178eed1e83fd6d4": {
      "model_module": "@jupyter-widgets/controls",
      "model_module_version": "1.5.0",
      "model_name": "LabelModel",
      "state": {
       "_dom_classes": [],
       "_model_module": "@jupyter-widgets/controls",
       "_model_module_version": "1.5.0",
       "_model_name": "LabelModel",
       "_view_count": null,
       "_view_module": "@jupyter-widgets/controls",
       "_view_module_version": "1.5.0",
       "_view_name": "LabelView",
       "description": "",
       "description_tooltip": null,
       "layout": "IPY_MODEL_dcbb81ff5a6d4a83ac011596524405f2",
       "placeholder": "​",
       "style": "IPY_MODEL_22fe92eb294546e3832243b51b7607d0",
       "value": ""
      }
     },
     "c34e52b5bff443a5b6c997503296ca2f": {
      "model_module": "@jupyter-widgets/base",
      "model_module_version": "1.2.0",
      "model_name": "LayoutModel",
      "state": {
       "_model_module": "@jupyter-widgets/base",
       "_model_module_version": "1.2.0",
       "_model_name": "LayoutModel",
       "_view_count": null,
       "_view_module": "@jupyter-widgets/base",
       "_view_module_version": "1.2.0",
       "_view_name": "LayoutView",
       "align_content": null,
       "align_items": null,
       "align_self": null,
       "border": null,
       "bottom": null,
       "display": null,
       "flex": null,
       "flex_flow": null,
       "grid_area": null,
       "grid_auto_columns": null,
       "grid_auto_flow": null,
       "grid_auto_rows": null,
       "grid_column": null,
       "grid_gap": null,
       "grid_row": null,
       "grid_template_areas": null,
       "grid_template_columns": null,
       "grid_template_rows": null,
       "height": null,
       "justify_content": null,
       "justify_items": null,
       "left": null,
       "margin": null,
       "max_height": null,
       "max_width": null,
       "min_height": null,
       "min_width": null,
       "object_fit": null,
       "object_position": null,
       "order": null,
       "overflow": null,
       "overflow_x": null,
       "overflow_y": null,
       "padding": null,
       "right": null,
       "top": null,
       "visibility": null,
       "width": null
      }
     },
     "d81944e243af40a5bad29b27ed128b38": {
      "model_module": "@jupyter-widgets/controls",
      "model_module_version": "1.5.0",
      "model_name": "ProgressStyleModel",
      "state": {
       "_model_module": "@jupyter-widgets/controls",
       "_model_module_version": "1.5.0",
       "_model_name": "ProgressStyleModel",
       "_view_count": null,
       "_view_module": "@jupyter-widgets/base",
       "_view_module_version": "1.2.0",
       "_view_name": "StyleView",
       "bar_color": null,
       "description_width": ""
      }
     },
     "dc049705a1dc4d2d922334afffa8f89b": {
      "model_module": "@jupyter-widgets/base",
      "model_module_version": "1.2.0",
      "model_name": "LayoutModel",
      "state": {
       "_model_module": "@jupyter-widgets/base",
       "_model_module_version": "1.2.0",
       "_model_name": "LayoutModel",
       "_view_count": null,
       "_view_module": "@jupyter-widgets/base",
       "_view_module_version": "1.2.0",
       "_view_name": "LayoutView",
       "align_content": null,
       "align_items": null,
       "align_self": null,
       "border": null,
       "bottom": null,
       "display": null,
       "flex": null,
       "flex_flow": null,
       "grid_area": null,
       "grid_auto_columns": null,
       "grid_auto_flow": null,
       "grid_auto_rows": null,
       "grid_column": null,
       "grid_gap": null,
       "grid_row": null,
       "grid_template_areas": null,
       "grid_template_columns": null,
       "grid_template_rows": null,
       "height": null,
       "justify_content": null,
       "justify_items": null,
       "left": null,
       "margin": null,
       "max_height": null,
       "max_width": null,
       "min_height": null,
       "min_width": null,
       "object_fit": null,
       "object_position": null,
       "order": null,
       "overflow": null,
       "overflow_x": null,
       "overflow_y": null,
       "padding": null,
       "right": null,
       "top": null,
       "visibility": null,
       "width": null
      }
     },
     "dcbb81ff5a6d4a83ac011596524405f2": {
      "model_module": "@jupyter-widgets/base",
      "model_module_version": "1.2.0",
      "model_name": "LayoutModel",
      "state": {
       "_model_module": "@jupyter-widgets/base",
       "_model_module_version": "1.2.0",
       "_model_name": "LayoutModel",
       "_view_count": null,
       "_view_module": "@jupyter-widgets/base",
       "_view_module_version": "1.2.0",
       "_view_name": "LayoutView",
       "align_content": null,
       "align_items": null,
       "align_self": null,
       "border": null,
       "bottom": null,
       "display": null,
       "flex": null,
       "flex_flow": null,
       "grid_area": null,
       "grid_auto_columns": null,
       "grid_auto_flow": null,
       "grid_auto_rows": null,
       "grid_column": null,
       "grid_gap": null,
       "grid_row": null,
       "grid_template_areas": null,
       "grid_template_columns": null,
       "grid_template_rows": null,
       "height": null,
       "justify_content": null,
       "justify_items": null,
       "left": null,
       "margin": null,
       "max_height": null,
       "max_width": null,
       "min_height": null,
       "min_width": null,
       "object_fit": null,
       "object_position": null,
       "order": null,
       "overflow": null,
       "overflow_x": null,
       "overflow_y": null,
       "padding": null,
       "right": null,
       "top": null,
       "visibility": null,
       "width": null
      }
     },
     "dd814bbe12b947cb83b7aecb984179d1": {
      "model_module": "@jupyter-widgets/controls",
      "model_module_version": "1.5.0",
      "model_name": "FloatProgressModel",
      "state": {
       "_dom_classes": [],
       "_model_module": "@jupyter-widgets/controls",
       "_model_module_version": "1.5.0",
       "_model_name": "FloatProgressModel",
       "_view_count": null,
       "_view_module": "@jupyter-widgets/controls",
       "_view_module_version": "1.5.0",
       "_view_name": "ProgressView",
       "bar_style": "",
       "description": "",
       "description_tooltip": null,
       "layout": "IPY_MODEL_dc049705a1dc4d2d922334afffa8f89b",
       "max": 1.0,
       "min": 0.0,
       "orientation": "horizontal",
       "style": "IPY_MODEL_9264b17c9ab14faba6f2840f9dd79ebf",
       "value": 0.0
      }
     },
     "f03e61924eca46c9bcb9e160480e2f02": {
      "model_module": "@jupyter-widgets/base",
      "model_module_version": "1.2.0",
      "model_name": "LayoutModel",
      "state": {
       "_model_module": "@jupyter-widgets/base",
       "_model_module_version": "1.2.0",
       "_model_name": "LayoutModel",
       "_view_count": null,
       "_view_module": "@jupyter-widgets/base",
       "_view_module_version": "1.2.0",
       "_view_name": "LayoutView",
       "align_content": null,
       "align_items": null,
       "align_self": null,
       "border": null,
       "bottom": null,
       "display": null,
       "flex": null,
       "flex_flow": null,
       "grid_area": null,
       "grid_auto_columns": null,
       "grid_auto_flow": null,
       "grid_auto_rows": null,
       "grid_column": null,
       "grid_gap": null,
       "grid_row": null,
       "grid_template_areas": null,
       "grid_template_columns": null,
       "grid_template_rows": null,
       "height": null,
       "justify_content": null,
       "justify_items": null,
       "left": null,
       "margin": null,
       "max_height": null,
       "max_width": null,
       "min_height": null,
       "min_width": null,
       "object_fit": null,
       "object_position": null,
       "order": null,
       "overflow": null,
       "overflow_x": null,
       "overflow_y": null,
       "padding": null,
       "right": null,
       "top": null,
       "visibility": null,
       "width": null
      }
     }
    },
    "version_major": 2,
    "version_minor": 0
   }
  }
 },
 "nbformat": 4,
 "nbformat_minor": 4
}
